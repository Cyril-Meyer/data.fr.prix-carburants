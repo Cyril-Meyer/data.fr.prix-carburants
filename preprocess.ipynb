{
 "cells": [
  {
   "cell_type": "code",
   "execution_count": 1,
   "id": "daddc2b5-c2df-45d1-a029-c6f722f241b4",
   "metadata": {},
   "outputs": [],
   "source": [
    "import datetime\n",
    "import dateutil.parser\n",
    "import pprint\n",
    "import pandas as pd\n",
    "import numpy as np\n",
    "import xml.etree.ElementTree as ET"
   ]
  },
  {
   "cell_type": "code",
   "execution_count": 2,
   "id": "dede72f5-cb8e-434e-86de-2371773f4e3a",
   "metadata": {},
   "outputs": [],
   "source": [
    "# Strasbourg, Schiltigheim, Illkirch-Graffenstaden\n",
    "valid_cp = ['67000', '67100', '67200', '67300', '67400']"
   ]
  },
  {
   "cell_type": "code",
   "execution_count": 3,
   "id": "ef3d46b2-75a4-4306-8f71-df9b7bb99aaa",
   "metadata": {},
   "outputs": [],
   "source": [
    "dict_adresse = dict()\n",
    "dict_nom = dict()\n",
    "dict_adresse_reverse = dict()\n",
    "dict_nom_reverse = dict()"
   ]
  },
  {
   "cell_type": "code",
   "execution_count": 4,
   "id": "4e5b1c53-cf7e-4cc8-b8f2-f62bfb0ac639",
   "metadata": {},
   "outputs": [],
   "source": [
    "# Create csv output\n",
    "with open('raw/prix-carburants.csv', 'w', encoding='utf-8') as file:\n",
    "    # csv columns\n",
    "    file.write('pdv_id,carburant_id,date,carburant_prix\\n')\n",
    "    # for each year we have data\n",
    "    for annee in range(2008, 2023):\n",
    "        # parse xml data\n",
    "        data_xml = ET.parse(f'raw/PrixCarburants_annuel_2007-2022/PrixCarburants_annuel_{annee}.xml')\n",
    "        # for each seller (point de vente)\n",
    "        for pdv in data_xml.getroot():\n",
    "            # check cp is in valid_cp (code postale)\n",
    "            if pdv.tag == 'pdv' and pdv.attrib['cp'] in valid_cp:\n",
    "                # seller id\n",
    "                pdv_id = int(pdv.attrib['id'])\n",
    "                pdv_adresse = ''\n",
    "                for data in pdv:\n",
    "                    # address entry\n",
    "                    if data.tag == 'adresse':\n",
    "                        pdv_adresse = data.text\n",
    "                        # dict of address\n",
    "                        dict_adresse[pdv_id] = pdv_adresse\n",
    "                        dict_adresse_reverse[pdv_adresse] = pdv_id\n",
    "                    # price entry\n",
    "                    if data.tag == 'prix':\n",
    "                        try:\n",
    "                            data_nom  = data.attrib['nom']\n",
    "                            data_id   = int(data.attrib['id'])\n",
    "                            data_date = dateutil.parser.parse(data.attrib['maj']).strftime(\"%d/%m/%Y %H:%M\")\n",
    "                            data_val  = float(data.attrib['valeur'])\n",
    "                            \n",
    "                            if data_val > 10:\n",
    "                                data_val /= 1000\n",
    "                            \n",
    "                            # dict of data names\n",
    "                            dict_nom[data_id] = data_nom\n",
    "                            dict_nom_reverse[data_nom] = data_id\n",
    "                            # write data out\n",
    "                            file.write(f'{pdv_id},{data_id},{data_date},{data_val}\\n')\n",
    "                        except Exception as e:\n",
    "                            pass"
   ]
  },
  {
   "cell_type": "code",
   "execution_count": 5,
   "id": "d52865d9-5d96-4dbf-9a6c-1156fc84dabf",
   "metadata": {},
   "outputs": [
    {
     "name": "stdout",
     "output_type": "stream",
     "text": [
      "{67000002: 'Route de la Wantzenau',\n",
      " 67000003: '49 Route du Rhin',\n",
      " 67000004: '82 Rue du Faubourg-National',\n",
      " 67000005: '41 Boulevard de Lyon',\n",
      " 67000006: '50 Boulevard de la Victoire',\n",
      " 67000007: 'CENTRE ROUTIER DE RHEINFELD',\n",
      " 67000009: '10 Rue de Rome',\n",
      " 67000010: '169 Route de Schirmeck',\n",
      " 67000011: \"9 Avenue d'Alsace\",\n",
      " 67000012: '59 Rue Boecklin',\n",
      " 67000013: '57 Rue de Ribeauvillé',\n",
      " 67000015: 'rue saint léon',\n",
      " 67000016: '1 rue saint léon',\n",
      " 67000017: '1 rue Saint Léon',\n",
      " 67000018: '1 rue Saint Léon',\n",
      " 67000019: '1 Rue Saint-Léon',\n",
      " 67000020: '1 rue saint léon',\n",
      " 67000022: '6 Rue du Rheinfeld',\n",
      " 67000023: '1 rue saint léon',\n",
      " 67000024: 'TEST',\n",
      " 67000025: '50 BOULEVARD DE LA VICTOIRE',\n",
      " 67000026: '49 RTE DU RHIN',\n",
      " 67000027: 'CENTRE ROUTIER DE RHEINFELD',\n",
      " 67000028: '59 RUE BOECKLIN',\n",
      " 67033001: 'place André Maurois',\n",
      " 67100002: '250 Avenue de Colmar',\n",
      " 67100003: \"4 Route d'Altenheim\",\n",
      " 67100005: '212 Avenue de Colmar',\n",
      " 67100007: '10 Rue du Landsberg',\n",
      " 67100008: 'RUE DE RHEINFELD',\n",
      " 67100009: \"4 ROUTE D'ALTENHEIM\",\n",
      " 67200001: '284 ROUTE DE SCHIRMECK',\n",
      " 67200002: 'RUE  DU  MARCHE  GARE',\n",
      " 67200003: '68 Route de Schirmeck',\n",
      " 67200004: '142 Route d#039;Oberhausbergen',\n",
      " 67200005: '48 Route des Romains',\n",
      " 67200006: '31 Route de Mittelhausbergen',\n",
      " 67200007: \"Rue d'Ostwald\",\n",
      " 67200008: '31 Route de Mittelhausbergen',\n",
      " 67200009: '48, avenue des Romaines',\n",
      " 67200010: '48-58 route des romains',\n",
      " 67200011: '68 ROUTE DE SCHIRMECK',\n",
      " 67200012: \"142 ROUTE D' OBERHAUSBERGEN\",\n",
      " 67205001: '256 route de Mittelhausbergen',\n",
      " 67300001: 'Avenue Pierre Mendès France',\n",
      " 67300002: '90 Route du Général de Gaulle',\n",
      " 67300003: 'AV PIERRE MENDES FRANCE',\n",
      " 67300004: '90 ROUTE DU GENERAL DE GAULLE',\n",
      " 67400001: '6 Avenue de Strasbourg',\n",
      " 67400002: '38 Route de Lyon',\n",
      " 67400003: '145 Route de Lyon',\n",
      " 67400004: 'rue des vignes',\n",
      " 67400005: '145 ROUTE DE LYON',\n",
      " 67400006: '145 ROUTE DE LYON'}\n"
     ]
    }
   ],
   "source": [
    "pprint.pprint(dict_adresse)"
   ]
  },
  {
   "cell_type": "code",
   "execution_count": 6,
   "id": "35333c29-4f34-48ba-bca4-e0a3d3402c85",
   "metadata": {},
   "outputs": [
    {
     "name": "stdout",
     "output_type": "stream",
     "text": [
      "{'1 Rue Saint-Léon': 67000019,\n",
      " '1 rue Saint Léon': 67000018,\n",
      " '1 rue saint léon': 67000023,\n",
      " '10 Rue de Rome': 67000009,\n",
      " '10 Rue du Landsberg': 67100007,\n",
      " \"142 ROUTE D' OBERHAUSBERGEN\": 67200012,\n",
      " '142 Route d#039;Oberhausbergen': 67200004,\n",
      " '145 ROUTE DE LYON': 67400005,\n",
      " '145 Route de Lyon': 67400003,\n",
      " '169 Route de Schirmeck': 67000010,\n",
      " '212 Avenue de Colmar': 67100005,\n",
      " '250 Avenue de Colmar': 67100002,\n",
      " '256 route de Mittelhausbergen': 67205001,\n",
      " '256, route de Mittelhausbergen': 67205001,\n",
      " '284 ROUTE DE SCHIRMECK': 67200001,\n",
      " '31 Route de Mittelhausbergen': 67200008,\n",
      " '38 Route de Lyon': 67400002,\n",
      " \"4 ROUTE D'ALTENHEIM\": 67100009,\n",
      " \"4 Route d'Altenheim\": 67100003,\n",
      " '41 Boulevard de Lyon': 67000005,\n",
      " '48 Route des Romains': 67200005,\n",
      " '48, avenue des Romaines': 67200009,\n",
      " '48-58 route des romains': 67200010,\n",
      " '49 RTE DU RHIN': 67000026,\n",
      " '49 Route du Rhin': 67000003,\n",
      " '50 BOULEVARD DE LA VICTOIRE': 67000025,\n",
      " '50 Boulevard de la Victoire': 67000006,\n",
      " '57 Rue de Ribeauvillé': 67000013,\n",
      " '59 RUE BOECKLIN': 67000028,\n",
      " '59 Rue Boecklin': 67000012,\n",
      " '6 Avenue de Strasbourg': 67400001,\n",
      " '6 Rue du Rheinfeld': 67000022,\n",
      " '68 ROUTE DE SCHIRMECK': 67200011,\n",
      " '68 Route de Schirmeck': 67200003,\n",
      " '82 Rue du Faubourg-National': 67000004,\n",
      " \"9 Avenue d'Alsace\": 67000011,\n",
      " '90 ROUTE DU GENERAL DE GAULLE': 67300004,\n",
      " '90 Route du Général de Gaulle': 67300002,\n",
      " 'AV PIERRE MENDES FRANCE': 67300003,\n",
      " 'Avenue Pierre Mendès France': 67300001,\n",
      " 'CENTRE ROUTIER DE RHEINFELD': 67000027,\n",
      " 'RUE  DU  MARCHE  GARE': 67200002,\n",
      " 'RUE DE RHEINFELD': 67100008,\n",
      " 'Route de la Wantzenau': 67000002,\n",
      " \"Rue d'Ostwald\": 67200007,\n",
      " 'TEST': 67000024,\n",
      " 'place André Maurois': 67033001,\n",
      " 'rue des vignes': 67400004,\n",
      " 'rue saint léon': 67000015}\n"
     ]
    }
   ],
   "source": [
    "pprint.pprint(dict_adresse_reverse)"
   ]
  },
  {
   "cell_type": "code",
   "execution_count": 7,
   "id": "8becd8f4-0cfa-4331-8bf7-c52b22d92532",
   "metadata": {},
   "outputs": [
    {
     "name": "stdout",
     "output_type": "stream",
     "text": [
      "{1: 'Gazole', 2: 'SP95', 3: 'E85', 4: 'GPLc', 5: 'E10', 6: 'SP98'}\n",
      "{'E10': 5, 'E85': 3, 'GPLc': 4, 'Gazole': 1, 'SP95': 2, 'SP98': 6}\n"
     ]
    }
   ],
   "source": [
    "pprint.pprint(dict_nom)\n",
    "pprint.pprint(dict_nom_reverse)"
   ]
  },
  {
   "cell_type": "code",
   "execution_count": null,
   "id": "741341b9-1566-4c87-b47d-97130f32306d",
   "metadata": {},
   "outputs": [],
   "source": []
  }
 ],
 "metadata": {
  "kernelspec": {
   "display_name": "Python 3 (ipykernel)",
   "language": "python",
   "name": "python3"
  },
  "language_info": {
   "codemirror_mode": {
    "name": "ipython",
    "version": 3
   },
   "file_extension": ".py",
   "mimetype": "text/x-python",
   "name": "python",
   "nbconvert_exporter": "python",
   "pygments_lexer": "ipython3",
   "version": "3.9.16"
  }
 },
 "nbformat": 4,
 "nbformat_minor": 5
}
