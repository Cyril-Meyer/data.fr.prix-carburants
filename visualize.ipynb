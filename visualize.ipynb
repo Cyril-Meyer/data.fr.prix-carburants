{
 "cells": [
  {
   "cell_type": "code",
   "execution_count": null,
   "id": "4217166f-797a-4ad4-9464-f742718bb986",
   "metadata": {},
   "outputs": [],
   "source": [
    "import datetime\n",
    "import pandas as pd\n",
    "import numpy as np\n",
    "import matplotlib.pyplot as plt\n",
    "\n",
    "import plotly.express as px\n",
    "import plotly.graph_objects as go\n",
    "import plotly.offline\n",
    "import plotly.subplots\n",
    "\n",
    "from IPython.display import HTML\n",
    "from IPython.display import SVG"
   ]
  },
  {
   "cell_type": "code",
   "execution_count": null,
   "id": "386755c2-ecd9-474c-948c-c262c23999ab",
   "metadata": {},
   "outputs": [],
   "source": [
    "dict_nom = {1: 'Gazole', 2: 'SP95', 3: 'E85', 4: 'GPLc', 5: 'E10', 6: 'SP98'}\n",
    "dict_address = {67000002: '67000, Route de la Wantzenau', 67000003: '67000, 49 Route du Rhin', 67000004: '67000, 82 Rue du Faubourg-National', 67000005: '67000, 41 Boulevard de Lyon', 67000006: '67000, 50 Boulevard de la Victoire', 67000007: '67000, CENTRE ROUTIER DE RHEINFELD', 67000009: '67000, 10 Rue de Rome', 67000010: '67000, 169 Route de Schirmeck', 67000011: \"67000, 9 Avenue d'Alsace\", 67000012: '67000, 59 Rue Boecklin', 67000013: '67000, 57 Rue de Ribeauvillé', 67000015: '67000, rue saint léon', 67000016: '67000, 1 rue saint léon', 67000017: '67000, 1 rue Saint Léon', 67000018: '67000, 1 rue Saint Léon', 67000019: '67000, 1 Rue Saint-Léon', 67000020: '67000, 1 rue saint léon', 67000022: '67000, 6 Rue du Rheinfeld', 67000023: '67000, 1 rue saint léon', 67000024: '67000, TEST', 67000025: '67000, 50 BOULEVARD DE LA VICTOIRE', 67000026: '67000, 49 RTE DU RHIN', 67000027: '67000, CENTRE ROUTIER DE RHEINFELD', 67000028: '67000, 59 RUE BOECKLIN', 67100002: '67100, 250 Avenue de Colmar', 67100003: \"67100, 4 Route d'Altenheim\", 67100005: '67100, 212 Avenue de Colmar', 67100007: '67100, 10 Rue du Landsberg', 67100008: '67100, RUE DE RHEINFELD', 67100009: \"67100, 4 ROUTE D'ALTENHEIM\", 67200001: '67200, 284 ROUTE DE SCHIRMECK', 67200002: '67200, RUE  DU  MARCHE  GARE', 67200003: '67200, 68 Route de Schirmeck', 67200004: '67200, 142 Route d\\'Oberhausbergen', 67200005: '67200, 48 Route des Romains', 67200006: '67200, 31 Route de Mittelhausbergen', 67200007: \"67200, Rue d'Ostwald\", 67200008: '67200, 31 Route de Mittelhausbergen', 67200009: '67200, 48, avenue des Romaines', 67200010: '67200, 48-58 route des romains', 67200011: '67200, 68 ROUTE DE SCHIRMECK', 67200012: \"67200, 142 ROUTE D' OBERHAUSBERGEN\", 67300001: '67300, Avenue Pierre Mendès France', 67300002: '67300, 90 Route du Général de Gaulle', 67300003: '67300, AV PIERRE MENDES FRANCE', 67300004: '67300, 90 ROUTE DU GENERAL DE GAULLE', 67400001: '67400, 6 Avenue de Strasbourg', 67400002: '67400, 38 Route de Lyon', 67400003: '67400, 145 Route de Lyon', 67400004: '67400, rue des vignes', 67400005: '67400, 145 ROUTE DE LYON', 67400006: '67400, 145 ROUTE DE LYON'}"
   ]
  },
  {
   "cell_type": "code",
   "execution_count": null,
   "id": "73a31ffe-f5cf-4897-889b-cc60a9759496",
   "metadata": {},
   "outputs": [],
   "source": [
    "df = pd.read_csv('raw/prix-carburants.csv')"
   ]
  },
  {
   "cell_type": "code",
   "execution_count": null,
   "id": "f08bff95-0975-4ec9-811a-d00e86346a6f",
   "metadata": {},
   "outputs": [],
   "source": [
    "# remove invalid cp\n",
    "df = df.drop(df[df['pdv_id'] == 67033001].index)\n",
    "df = df.drop(df[df['pdv_id'] == 67205001].index)"
   ]
  },
  {
   "cell_type": "code",
   "execution_count": null,
   "id": "c90dd738-2b67-459d-b2ea-dcd303d49a4a",
   "metadata": {},
   "outputs": [],
   "source": [
    "# sort by seller and date\n",
    "df = df.sort_values(by=[\"pdv_id\", \"date\"])"
   ]
  },
  {
   "cell_type": "code",
   "execution_count": null,
   "id": "d958785e-6a48-4e0a-ba9d-11b39156d73a",
   "metadata": {},
   "outputs": [],
   "source": [
    "# date tiemstamp to datetime\n",
    "df['datetime'] = pd.to_datetime(df['date'], unit='s')\n",
    "# station name from pdv_id\n",
    "df['station'] = df['pdv_id'].map(dict_address)"
   ]
  },
  {
   "cell_type": "code",
   "execution_count": null,
   "id": "75174dec-bf61-414f-9ab1-938e7115008d",
   "metadata": {},
   "outputs": [],
   "source": [
    "for carburant_id in [1, 2, 3, 4, 5, 6]:\n",
    "    df_ = df[df.carburant_id == carburant_id]\n",
    "    fig = px.line(df_, x=\"datetime\", y=\"carburant_prix\", color='station', title=dict_nom[carburant_id])\n",
    "    fig.update_layout(xaxis_range=[datetime.datetime(2012, 1, 1, 1, 1),\n",
    "                                   datetime.datetime(2022, 12, 31, 1, 1)])\n",
    "    fig.update_layout(yaxis_range=[0, 5])\n",
    "    plotly.offline.plot(fig, filename=f'prix-carburants-{dict_nom[carburant_id]}.html', auto_open=False)\n",
    "    fig.show()"
   ]
  },
  {
   "cell_type": "code",
   "execution_count": null,
   "id": "79addc92-5289-4df2-ad66-4d186e0c9a7a",
   "metadata": {},
   "outputs": [],
   "source": [
    "start = datetime.datetime(2020, 1, 1, 1, 1)\n",
    "stop  = datetime.datetime(2022, 12, 31, 1, 1)\n",
    "\n",
    "for carburant_id in [1, 6]:\n",
    "    prices = []\n",
    "\n",
    "    for pdv_id in df.pdv_id.unique():\n",
    "        x = []\n",
    "        y = []\n",
    "\n",
    "        df_ = df[df.pdv_id == pdv_id]\n",
    "        df_ = df_[df_.carburant_id == 1]\n",
    "\n",
    "        for index, row in df_.iterrows():\n",
    "            x.append(row['date'])\n",
    "            y.append(row['carburant_prix'])\n",
    "\n",
    "        x_ = np.linspace(start.timestamp(), stop.timestamp(), 1095)\n",
    "        y_ = np.interp(x_, x, y)\n",
    "\n",
    "        # keep if enough data\n",
    "        if sum((data > start.timestamp() and data < stop.timestamp()) for data in x) < 100:\n",
    "            continue\n",
    "        '''\n",
    "        plt.plot(x, y)\n",
    "        plt.xlim(x_[0], x_[-1])\n",
    "        plt.show()\n",
    "        plt.plot(x_, y_)\n",
    "        plt.xlim(x_[0], x_[-1])\n",
    "        plt.show()\n",
    "        '''\n",
    "\n",
    "        prices.append((pdv_id, y_))\n",
    "    \n",
    "    prices = np.array(prices)\n",
    "    means = prices[:, 1].mean()\n",
    "    \n",
    "    print(dict_nom[carburant_id])\n",
    "    print(f'|{\"Adresse\":40}|{\"Diff\":8}|')\n",
    "    print(f'|----------------------------------------|--------|')\n",
    "    for i in range(len(prices)):\n",
    "        diff = prices[i, 1] - means\n",
    "        print(f'|{dict_address[prices[i, 0]]:40}|{round(diff.mean(), 3):8}|')"
   ]
  },
  {
   "cell_type": "code",
   "execution_count": null,
   "id": "54e2b39b-a640-4e8c-85ab-4ae007ad420a",
   "metadata": {},
   "outputs": [],
   "source": []
  }
 ],
 "metadata": {
  "kernelspec": {
   "display_name": "Python 3 (ipykernel)",
   "language": "python",
   "name": "python3"
  },
  "language_info": {
   "codemirror_mode": {
    "name": "ipython",
    "version": 3
   },
   "file_extension": ".py",
   "mimetype": "text/x-python",
   "name": "python",
   "nbconvert_exporter": "python",
   "pygments_lexer": "ipython3",
   "version": "3.7.9"
  }
 },
 "nbformat": 4,
 "nbformat_minor": 5
}
